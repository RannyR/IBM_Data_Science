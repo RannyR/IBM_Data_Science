{
 "cells": [
  {
   "cell_type": "markdown",
   "id": "f648ba5e",
   "metadata": {},
   "source": [
    "# Data Science Tools and Ecosystems"
   ]
  },
  {
   "cell_type": "markdown",
   "id": "4f2cbb02",
   "metadata": {},
   "source": [
    "## In this notebook, Data Science Tools and Ecosystems and summarized."
   ]
  },
  {
   "cell_type": "markdown",
   "id": "6a6e0c40",
   "metadata": {},
   "source": [
    "Some of the popular languages that Data Scientists use are:\n",
    "1. Python \n",
    "2. Java\n",
    "3. R\n",
    "4. Julia\n",
    "5. Scala\n",
    "6. MATLAB"
   ]
  },
  {
   "cell_type": "markdown",
   "id": "d7654416",
   "metadata": {},
   "source": [
    "Some of the commonaly used libraries used by Data Scientists include:\n",
    "1. Matplotlib\n",
    "2. Seaborn\n",
    "3. Numpy\n",
    "4. Pandas"
   ]
  },
  {
   "cell_type": "markdown",
   "id": "29e1d143",
   "metadata": {},
   "source": [
    "| Data Science Tools | Jupyter | RStudio | Spyder |\n"
   ]
  },
  {
   "cell_type": "markdown",
   "id": "341e4dd6",
   "metadata": {},
   "source": [
    "### Below are a few examples of evaluating arithmetic expressions in Python"
   ]
  },
  {
   "cell_type": "code",
   "execution_count": 1,
   "id": "90ee6959",
   "metadata": {},
   "outputs": [
    {
     "data": {
      "text/plain": [
       "17"
      ]
     },
     "execution_count": 1,
     "metadata": {},
     "output_type": "execute_result"
    }
   ],
   "source": [
    "#This a simple arithmetic expression to mutiply then add integers\n",
    "(3*4)+5"
   ]
  },
  {
   "cell_type": "code",
   "execution_count": 2,
   "id": "8163d75d",
   "metadata": {},
   "outputs": [
    {
     "data": {
      "text/plain": [
       "3.3333333333333335"
      ]
     },
     "execution_count": 2,
     "metadata": {},
     "output_type": "execute_result"
    }
   ],
   "source": [
    "#This will convert 200 minutes to hours by dividing by 60\n",
    "200/60"
   ]
  },
  {
   "cell_type": "markdown",
   "id": "8e89dfc8",
   "metadata": {},
   "source": [
    "**Objectives:**\n",
    "*Some of the popular languages that Data Scientists use\n",
    "*Some of the commonaly used libraries used by Data Scientists\n",
    "*Few examples of evaluating arithmetic expressions in Python"
   ]
  },
  {
   "cell_type": "markdown",
   "id": "8afdcc17",
   "metadata": {},
   "source": [
    "**Objectives:**\n",
    "*few examples of evaluating arithmetic expressions in Python  \n",
    "*Some of the popular languages that Data Scientists use  \n",
    "*Some of the commonaly used libraries used by Data Scientists  \n",
    "\n"
   ]
  },
  {
   "cell_type": "markdown",
   "id": "4d1471c8",
   "metadata": {},
   "source": [
    "## Author\n",
    "Ranjeet Roy \n"
   ]
  },
  {
   "cell_type": "code",
   "execution_count": null,
   "id": "af2b46e0",
   "metadata": {},
   "outputs": [],
   "source": []
  }
 ],
 "metadata": {
  "kernelspec": {
   "display_name": "Python 3 (ipykernel)",
   "language": "python",
   "name": "python3"
  },
  "language_info": {
   "codemirror_mode": {
    "name": "ipython",
    "version": 3
   },
   "file_extension": ".py",
   "mimetype": "text/x-python",
   "name": "python",
   "nbconvert_exporter": "python",
   "pygments_lexer": "ipython3",
   "version": "3.9.13"
  }
 },
 "nbformat": 4,
 "nbformat_minor": 5
}
